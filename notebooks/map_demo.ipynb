{
 "cells": [
  {
   "cell_type": "markdown",
   "id": "7e57a662-51fc-4226-9811-897116e1e319",
   "metadata": {},
   "source": [
    "# Drawing the Map\n",
    "With this tutorial, we're going to be looking into AXS initiations throughout the years and how this can be visualized using python. The first thing that we need to do is draw a map! This is very hard. Thankfully, the Census Bureau is very good at it! Let's [steal their map!](https://www.census.gov/geographies/mapping-files/time-series/geo/tiger-line-file.html) Don't worry about sorting through the downloads, the necessary file should be distributed to you, we are looking for \"cb_2023_us_state_500k.shp\".  The first thing we need to do is access the data we have downloaded. To access the file, we need to tell python where to look. To do this we can use the [os](https://docs.python.org/3/library/os.html) package, which comes with python. This package allows us to interface with our computer's operating system, making it crucial to almost any application of python. The file structure looks like this:\n",
    ">- AXS-Demos\n",
    "    - notebooks\n",
    "        - map_demo.ipynb\n",
    "    - data\n",
    "        - map_demo\n",
    "            - shape_file\n",
    "                - cb_2023_us_state_500k.shp\n",
    "\n",
    "The operating system interprets `\"..\"` as the directory above the current directory, and the [`os.path.join()` method](https://docs.python.org/3/library/os.path.html#os.path.join) will automatically join together a string which is formatted as a file path, so we can navigate to AXS-Demos and then go through the files to find the `.shp` file. Check the documentation to see if you can get the right file path (`../data/map_demo/shape_file/cb_2023_us_state_500k.shp`), or uncomment the line starting with `%load` and run the cell to find a version that worked for me."
   ]
  },
  {
   "cell_type": "code",
   "execution_count": 1,
   "id": "4cec4c4c-6987-4d30-9702-1d9fa072dfe7",
   "metadata": {},
   "outputs": [],
   "source": [
    "# %load ./snippets/sol1.py\n",
    "import os\n",
    "shape_path = os.path.join(\"..\", \"data\", \"map_demo\", \"shape_file\", \"cb_2023_us_state_500k.shp\")"
   ]
  },
  {
   "cell_type": "markdown",
   "id": "73adf0fa-283a-4abc-bd12-845d66a185f4",
   "metadata": {},
   "source": [
    "## Error Checking\n",
    "Since I put the shape file there, I can be pretty sure that it will open as we expect it to, but it is still good practice to always check a file existance whenever we open them, and **especially** when we are going to be writing to a file. The [`os.path.isfile()` method](https://docs.python.org/3/library/os.path.html#os.path.isfile) returns 'True' if there is a file with the desired path and 'False' otherwise. Try to write an [if/else](https://docs.python.org/3/tutorial/controlflow.html) statement to handle these on your own (rember that you must `import os` so python knows what methods to use)!"
   ]
  },
  {
   "cell_type": "code",
   "execution_count": 2,
   "id": "3709a375-20ff-4cda-9391-03759f865c4a",
   "metadata": {},
   "outputs": [
    {
     "name": "stdout",
     "output_type": "stream",
     "text": [
      "File found.\n",
      "File found.\n"
     ]
    }
   ],
   "source": [
    "# %load ./snippets/sol2.py\n",
    "if os.path.isfile(shape_path) == True:\n",
    "    print('File found.')\n",
    "\n",
    "else:\n",
    "    print('Please enter a valid file path.')\n",
    "\n",
    "# In python, we can omit the == True, as the os.path.isfile() method evaluates to a boolean, and python understands this to mean if true is retrned. Similarly, we can use the \n",
    "# not logical operator\n",
    "\n",
    "if not os.path.isfile(shape_path):\n",
    "    print('Please enter a valid file path.')\n",
    "\n",
    "else:\n",
    "    print('File found.')\n"
   ]
  },
  {
   "cell_type": "markdown",
   "id": "b9335f4c-1728-4bb0-bee8-c6de3fd1a0e2",
   "metadata": {},
   "source": [
    "[Geopandas](https://geopandas.org/en/stable/getting_started.html) is a library we can use to not only work with shape files and the data we associate with them, but also integrate with other python libraries to generate plots. The [`read_file` method](https://geopandas.org/en/stable/docs/reference/api/geopandas.read_file.html#geopandas.read_file) turns a shapefiles (which are basically useless to a human) into a manageable list of polygons with defined boundaries."
   ]
  },
  {
   "cell_type": "code",
   "execution_count": 3,
   "id": "53d639ac-d98a-4aba-8976-68d93853735d",
   "metadata": {},
   "outputs": [],
   "source": [
    "# %load ./snippets/sol3.py\n",
    "import geopandas as gpd\n",
    "shape = gpd.read_file(shape_path)"
   ]
  },
  {
   "cell_type": "markdown",
   "id": "9f5c1867-b780-41f0-b10b-b40a2cceb35c",
   "metadata": {},
   "source": [
    "This brings us to a slightly more advanced but much more helpful way of debugging: the [try/except](https://docs.python.org/3/tutorial/errors.html). Often times the packages we use have error catching features which will give us a report whenever an error occurs. We can use this to out advantage to learn *why* our code isn't working and move from there. Lets write a function to open a shapefile and return the `geopandas` object if successful."
   ]
  },
  {
   "cell_type": "code",
   "execution_count": 4,
   "id": "ed54afd1-3b26-40fb-b748-492cd651e36b",
   "metadata": {},
   "outputs": [],
   "source": [
    "def open_shapefile(file_path):\n",
    "    try: # The inteded case the script will try first\n",
    "        shape = gpd.read_file(file_path)\n",
    "        print(\"Shapefile exists and is readable!\")\n",
    "        return shape\n",
    "        \n",
    "    except Exception as e: # If the try portion fails, we save the error as e\n",
    "        print(\"Shapefile does not exist or is invalid:\", e)\n",
    "        return None"
   ]
  },
  {
   "cell_type": "markdown",
   "id": "0f9e5e7a-11c1-40a9-bb6d-196281575f08",
   "metadata": {},
   "source": [
    "We can now use our `open_shapefile` function to open functions, but also address any issues. Lets first consider if we passed the name of a file which does not exist."
   ]
  },
  {
   "cell_type": "code",
   "execution_count": 5,
   "id": "7f45dac5-f493-4be9-a080-9782f52f2ac8",
   "metadata": {},
   "outputs": [
    {
     "name": "stdout",
     "output_type": "stream",
     "text": [
      "Shapefile does not exist or is invalid: ../data/map_demo/shape_file/cb_2023_florida.shp: No such file or directory\n"
     ]
    }
   ],
   "source": [
    "bad_shape_path = os.path.join(\"..\", \"data\", \"map_demo\", \"shape_file\", \"cb_2023_florida.shp\")\n",
    "open_shapefile(bad_shape_path)"
   ]
  },
  {
   "cell_type": "markdown",
   "id": "e29ee276-7c8e-4457-874b-273c64640246",
   "metadata": {},
   "source": [
    "We can compare this to the error thrown when the file is not of the expected format:"
   ]
  },
  {
   "cell_type": "code",
   "execution_count": 6,
   "id": "33020c25-82b4-4c59-8398-ad54b353fd96",
   "metadata": {},
   "outputs": [
    {
     "name": "stdout",
     "output_type": "stream",
     "text": [
      "Shapefile does not exist or is invalid: '../data/map_demo/shape_file_bad/cb_2023_us_state_500k.shp' not recognized as a supported file format.\n"
     ]
    }
   ],
   "source": [
    "bad_shape_path = os.path.join(\"..\", \"data\", \"map_demo\", \"shape_file_bad\", \"cb_2023_us_state_500k.shp\")\n",
    "open_shapefile(bad_shape_path)"
   ]
  },
  {
   "cell_type": "markdown",
   "id": "50f08879-f317-47e5-b229-f4a13329c7a9",
   "metadata": {},
   "source": [
    "## Graphics\n",
    "The `shape` object now contains everything we need to draw our shapes. Since we plan to fill the insides in ourselves, we just want to trace the borders of the map. The `geopandas` dataframe has a `boundary` object which can extract exactly this for us and just like that we have out map!"
   ]
  },
  {
   "cell_type": "code",
   "execution_count": 7,
   "id": "da179d6a-a8a3-4897-958b-62802a41ff5f",
   "metadata": {},
   "outputs": [
    {
     "name": "stdout",
     "output_type": "stream",
     "text": [
      "0     LINESTRING (-109.05017 31.48000, -109.04984 31...\n",
      "1     LINESTRING (-104.05788 44.99761, -104.05078 44...\n",
      "2     MULTILINESTRING ((-118.60442 33.47855, -118.59...\n",
      "3     MULTILINESTRING ((-89.40565 36.52817, -89.3986...\n",
      "4     MULTILINESTRING ((-88.05338 30.50699, -88.0510...\n",
      "5     MULTILINESTRING ((-81.27939 31.30792, -81.2771...\n",
      "6     LINESTRING (-94.61792 36.49941, -94.61765 36.4...\n",
      "7     LINESTRING (-80.51989 40.90666, -80.51963 40.9...\n",
      "8     LINESTRING (-95.77355 40.57820, -95.76853 40.5...\n",
      "9     LINESTRING (-109.06025 38.59933, -109.05954 38...\n",
      "10    LINESTRING (-114.05296 37.59278, -114.05247 37...\n",
      "11    LINESTRING (-103.00257 36.52659, -103.00219 36...\n",
      "12    LINESTRING (-90.31045 35.00270, -90.30926 35.0...\n",
      "13    LINESTRING (-111.05456 45.00095, -111.04507 45...\n",
      "14    MULTILINESTRING ((-72.03769 41.25128, -72.0347...\n",
      "15    LINESTRING (-88.09776 37.90403, -88.09448 37.9...\n",
      "16    LINESTRING (-102.05174 40.00308, -101.91670 40...\n",
      "17    LINESTRING (-117.24268 44.39655, -117.23484 44...\n",
      "18    MULTILINESTRING ((-131.61757 54.94795, -131.61...\n",
      "19    LINESTRING (-120.00645 39.27288, -120.00643 39...\n",
      "20    LINESTRING (-91.51297 40.18106, -91.51107 40.1...\n",
      "21    LINESTRING (-73.43774 44.04501, -73.43199 44.0...\n",
      "22    MULTILINESTRING ((-89.59206 47.96668, -89.5914...\n",
      "23    LINESTRING (-96.63836 42.73550, -96.63797 42.7...\n",
      "24    MULTILINESTRING ((-79.50795 33.02008, -79.5071...\n",
      "25    MULTILINESTRING ((-70.61702 42.97718, -70.6152...\n",
      "26    MULTILINESTRING ((-75.56752 39.51020, -75.5647...\n",
      "27    LINESTRING (-77.11976 38.93434, -77.11253 38.9...\n",
      "28    MULTILINESTRING ((-168.14582 -14.54791, -168.1...\n",
      "29    MULTILINESTRING ((-72.22593 41.29384, -72.2252...\n",
      "30    MULTILINESTRING ((-83.19159 42.03537, -83.1899...\n",
      "31    MULTILINESTRING ((-70.23405 41.28565, -70.2212...\n",
      "32    MULTILINESTRING ((-80.17628 25.52505, -80.1739...\n",
      "33    MULTILINESTRING ((-64.62765 17.78857, -64.6272...\n",
      "34    MULTILINESTRING ((-74.04220 40.69997, -74.0390...\n",
      "35    LINESTRING (-104.04868 48.86378, -104.04865 48...\n",
      "36    MULTILINESTRING ((-76.04998 37.99011, -76.0486...\n",
      "37    MULTILINESTRING ((-67.32260 44.61160, -67.3217...\n",
      "38    MULTILINESTRING ((-156.06076 19.73055, -156.05...\n",
      "39    MULTILINESTRING ((144.64538 13.23627, 144.6476...\n",
      "40    MULTILINESTRING ((145.63270 16.36647, 145.6329...\n",
      "41    MULTILINESTRING ((-71.28802 41.64558, -71.2864...\n",
      "42    LINESTRING (-116.04914 48.50205, -116.04913 48...\n",
      "43    LINESTRING (-114.81629 32.50804, -114.81432 32...\n",
      "44    LINESTRING (-104.05342 41.17054, -104.05321 41...\n",
      "45    MULTILINESTRING ((-122.33164 48.02056, -122.32...\n",
      "46    MULTILINESTRING ((-65.23773 18.32118, -65.2361...\n",
      "47    MULTILINESTRING ((-94.71830 29.72885, -94.7172...\n",
      "48    MULTILINESTRING ((-82.73447 41.60351, -82.7242...\n",
      "49    MULTILINESTRING ((-86.83090 45.42602, -86.8286...\n",
      "50    MULTILINESTRING ((-123.66475 46.24431, -123.64...\n",
      "51    MULTILINESTRING ((-88.50502 30.21574, -88.4916...\n",
      "52    MULTILINESTRING ((-75.72681 35.93584, -75.7182...\n",
      "53    MULTILINESTRING ((-75.74241 37.80835, -75.7415...\n",
      "54    LINESTRING (-82.64320 38.16909, -82.64300 38.1...\n",
      "55    MULTILINESTRING ((-88.86770 29.86155, -88.8656...\n",
      "dtype: geometry\n"
     ]
    }
   ],
   "source": [
    "borders = shape.boundary\n",
    "print(borders)"
   ]
  },
  {
   "cell_type": "markdown",
   "id": "347ea214-7646-44d2-897e-9b984244428d",
   "metadata": {},
   "source": [
    "Ok... maybe its not much of a map yet, but thankfully the developers of `geopandas` designed it to interface with [`matplotlib`](https://matplotlib.org/stable/), a widely used package for graphing numerical data. We can instantiate a `matplotlib` object with the `plot()` method and save it to the `ax` varaible. For now, we don't need to worry about importing anything from `matplotlib` as `geopandas` imports all the necessary requirements for us."
   ]
  },
  {
   "cell_type": "code",
   "execution_count": 8,
   "id": "27940e83-89c8-42b0-aeb3-886b1e55096d",
   "metadata": {},
   "outputs": [
    {
     "data": {
      "image/png": "[encoded data removed]",
      "text/plain": [
       "<Figure size 640x480 with 1 Axes>"
      ]
     },
     "metadata": {},
     "output_type": "display_data"
    }
   ],
   "source": [
    "ax = borders.plot()"
   ]
  },
  {
   "cell_type": "markdown",
   "id": "35e200a3-bca5-4d87-b465-59c272d45bbc",
   "metadata": {},
   "source": [
    "### Masking\n",
    "We have a map! It could use a little cleaning up though. This is easy with python's masking ability. Masking allows us to set up a True/Flase statment and apply it to data, resulting in a boolean array. This array can then be used to slice specific parts of our data. First we need extract all the names of the states in out `geopandas` dataframe. First we need to look at how this data is stored. In python, a dictionary is similar to a list, but instead of being addressed by a number, it is addressed by a string known as a key. Dataframes in `pandas` and by extension `geopandas` are dictionaries where each key corresponds to a list. For example, the key 'NAME' accesses a list of names found in a shapefile."
   ]
  },
  {
   "cell_type": "code",
   "execution_count": 9,
   "id": "ee077edd-569d-4104-bce2-752bb23a33ab",
   "metadata": {},
   "outputs": [
    {
     "name": "stdout",
     "output_type": "stream",
     "text": [
      "0                                       New Mexico\n",
      "1                                     South Dakota\n",
      "2                                       California\n",
      "3                                         Kentucky\n",
      "4                                          Alabama\n",
      "5                                          Georgia\n",
      "6                                         Arkansas\n",
      "7                                     Pennsylvania\n",
      "8                                         Missouri\n",
      "9                                         Colorado\n",
      "10                                            Utah\n",
      "11                                        Oklahoma\n",
      "12                                       Tennessee\n",
      "13                                         Wyoming\n",
      "14                                        New York\n",
      "15                                         Indiana\n",
      "16                                          Kansas\n",
      "17                                           Idaho\n",
      "18                                          Alaska\n",
      "19                                          Nevada\n",
      "20                                        Illinois\n",
      "21                                         Vermont\n",
      "22                                       Minnesota\n",
      "23                                            Iowa\n",
      "24                                  South Carolina\n",
      "25                                   New Hampshire\n",
      "26                                        Delaware\n",
      "27                            District of Columbia\n",
      "28                                  American Samoa\n",
      "29                                     Connecticut\n",
      "30                                        Michigan\n",
      "31                                   Massachusetts\n",
      "32                                         Florida\n",
      "33                    United States Virgin Islands\n",
      "34                                      New Jersey\n",
      "35                                    North Dakota\n",
      "36                                        Maryland\n",
      "37                                           Maine\n",
      "38                                          Hawaii\n",
      "39                                            Guam\n",
      "40    Commonwealth of the Northern Mariana Islands\n",
      "41                                    Rhode Island\n",
      "42                                         Montana\n",
      "43                                         Arizona\n",
      "44                                        Nebraska\n",
      "45                                      Washington\n",
      "46                                     Puerto Rico\n",
      "47                                           Texas\n",
      "48                                            Ohio\n",
      "49                                       Wisconsin\n",
      "50                                          Oregon\n",
      "51                                     Mississippi\n",
      "52                                  North Carolina\n",
      "53                                        Virginia\n",
      "54                                   West Virginia\n",
      "55                                       Louisiana\n",
      "Name: NAME, dtype: object\n"
     ]
    }
   ],
   "source": [
    "names = shape['NAME']\n",
    "print(names)"
   ]
  },
  {
   "cell_type": "markdown",
   "id": "9ca01ce4-2514-4178-b5b6-f7ac454376bb",
   "metadata": {},
   "source": [
    "We will focus on the continental US becase that is where all the chapters are located. To achieve this we need to make a list of states and terriries to excclude from out dataframe (Alaska, Hawaii, Puerto Rico, American Samoa, Virgin Islands, Guam, Mariana Islands)."
   ]
  },
  {
   "cell_type": "code",
   "execution_count": 10,
   "id": "9563180b-80df-4b5f-af7b-d2bea24e8bb0",
   "metadata": {},
   "outputs": [],
   "source": [
    "exclusions = ['Alaska', 'Hawaii', 'Puerto Rico', 'American Samoa', 'United States Virgin Islands', 'Guam', 'Commonwealth of the Northern Mariana Islands']"
   ]
  },
  {
   "cell_type": "markdown",
   "id": "6384406a-8928-4f71-8e68-de157a7e5e09",
   "metadata": {},
   "source": [
    "Now we need to create the boolean mask for the states which do not appear in `exclusions`. Note that this is using a different syntax, but the for loop can be interpreted exactly as before."
   ]
  },
  {
   "cell_type": "code",
   "execution_count": 11,
   "id": "322c74c6-a9f6-4db4-bb00-8b2b23998329",
   "metadata": {},
   "outputs": [
    {
     "name": "stdout",
     "output_type": "stream",
     "text": [
      "[True, True, True, True, True, True, True, True, True, True, True, True, True, True, True, True, True, True, False, True, True, True, True, True, True, True, True, True, False, True, True, True, True, False, True, True, True, True, False, False, False, True, True, True, True, True, False, True, True, True, True, True, True, True, True, True]\n"
     ]
    }
   ],
   "source": [
    "mask = [state not in exclusions for state in names]\n",
    "print(mask)"
   ]
  },
  {
   "cell_type": "markdown",
   "id": "20c6d0f1-26b0-4c60-9000-8db9773e6c2e",
   "metadata": {},
   "source": [
    "Now we just need to apply the mask and determine if it worked as we intended."
   ]
  },
  {
   "cell_type": "code",
   "execution_count": 12,
   "id": "9d9b8987-6dd6-4424-8282-379ad88c9317",
   "metadata": {},
   "outputs": [
    {
     "name": "stdout",
     "output_type": "stream",
     "text": [
      "0               New Mexico\n",
      "1             South Dakota\n",
      "2               California\n",
      "3                 Kentucky\n",
      "4                  Alabama\n",
      "5                  Georgia\n",
      "6                 Arkansas\n",
      "7             Pennsylvania\n",
      "8                 Missouri\n",
      "9                 Colorado\n",
      "10                    Utah\n",
      "11                Oklahoma\n",
      "12               Tennessee\n",
      "13                 Wyoming\n",
      "14                New York\n",
      "15                 Indiana\n",
      "16                  Kansas\n",
      "17                   Idaho\n",
      "19                  Nevada\n",
      "20                Illinois\n",
      "21                 Vermont\n",
      "22               Minnesota\n",
      "23                    Iowa\n",
      "24          South Carolina\n",
      "25           New Hampshire\n",
      "26                Delaware\n",
      "27    District of Columbia\n",
      "29             Connecticut\n",
      "30                Michigan\n",
      "31           Massachusetts\n",
      "32                 Florida\n",
      "34              New Jersey\n",
      "35            North Dakota\n",
      "36                Maryland\n",
      "37                   Maine\n",
      "41            Rhode Island\n",
      "42                 Montana\n",
      "43                 Arizona\n",
      "44                Nebraska\n",
      "45              Washington\n",
      "47                   Texas\n",
      "48                    Ohio\n",
      "49               Wisconsin\n",
      "50                  Oregon\n",
      "51             Mississippi\n",
      "52          North Carolina\n",
      "53                Virginia\n",
      "54           West Virginia\n",
      "55               Louisiana\n",
      "Name: NAME, dtype: object\n"
     ]
    },
    {
     "data": {
      "image/png": "[encoded data removed]",
      "text/plain": [
       "<Figure size 640x480 with 1 Axes>"
      ]
     },
     "metadata": {},
     "output_type": "display_data"
    }
   ],
   "source": [
    "masked_shape = shape[mask]\n",
    "print(masked_shape['NAME'])\n",
    "borders = masked_shape.boundary\n",
    "ax = borders.plot()"
   ]
  },
  {
   "cell_type": "markdown",
   "id": "3b731631-3576-41ac-b7f7-eab1da59f080",
   "metadata": {},
   "source": [
    "### Matplotlib Options\n",
    "We're getting there! There are tick marks and and the borders are a little thick, and we can't choose the color. Instead of relying on the `geopandas` defaults for plotting, we're going to build a canvas consisting of a `figure` and `axes` object with `matplotlib`. This allows us to set some ground rules that for the graph were projecting data onto. We have to import the [`pyplot modlue`](https://matplotlib.org/3.5.3/api/_as_gen/matplotlib.pyplot.html)  of `matplotlib`, which allows us to interface and manage our figure."
   ]
  },
  {
   "cell_type": "code",
   "execution_count": 13,
   "id": "56dcc042-b679-4169-a1fd-b82c359e0440",
   "metadata": {},
   "outputs": [
    {
     "data": {
      "image/png": "[encoded data removed]",
      "text/plain": [
       "<Figure size 1000x800 with 1 Axes>"
      ]
     },
     "metadata": {},
     "output_type": "display_data"
    }
   ],
   "source": [
    "import matplotlib.pyplot as plt\n",
    "fig, ax = plt.subplots(figsize = (10, 8)) # increase the figure size to 10 x 8 \n",
    "borders.plot(ax=ax, edgecolor='black', linewidth=0.2) # set the borders to fine black lines\n",
    "plt.tick_params(left = False, bottom = False) # remove the spines\n",
    "plt.tick_params(labelleft = False, labelbottom = False) # remove the numbers\n",
    "plt.show()"
   ]
  },
  {
   "cell_type": "markdown",
   "id": "97174185-63e0-4c41-b5b2-74b8a40266f7",
   "metadata": {},
   "source": [
    "We will plot a map like this many times before we have the animation, so it's a good idea to make it a function we can reference later. This is considered best practice for a few reasons:\n",
    "- Using a function guarantees the code is the same every time.\n",
    "- This allows us to use the function from any script on a computer with this script (this is a little more difficult for Jupyter notebooks, but very simple to import from a .py script.\n",
    "- Python (generally) automatically cleans up any memory allocated inside of a function which is not returned.\n",
    "- Grouping complex logic helps keep the main part of your code easy to read. This makes making changes and fixes much easier.\n",
    "\n",
    "Write a function which will take in a `borders` object and will show a plot based on the borders. For right now, the function does not need to return anything, just show the plot."
   ]
  },
  {
   "cell_type": "code",
   "execution_count": null,
   "id": "d2c92141-d62b-4139-90f1-2b22f572eb71",
   "metadata": {},
   "outputs": [],
   "source": []
  },
  {
   "cell_type": "markdown",
   "id": "5703c3d4-083a-4581-b1ad-52ef030b30d1",
   "metadata": {},
   "source": [
    "# Data Scraping\n",
    "Now that we have a blank map, we need to fill it in with meaningful data. Nationals has provided us with a csv file for each chapter. The first thing we need to do is generate a list of every file name in this directory."
   ]
  },
  {
   "cell_type": "code",
   "execution_count": 14,
   "id": "55d45274-bd26-4abf-8f71-3eb03d9f2538",
   "metadata": {},
   "outputs": [
    {
     "name": "stdout",
     "output_type": "stream",
     "text": [
      "['126 Alpha Beta.CSV', '108 Theta.CSV', '111 Lambda.CSV', '184 Gamma Mu.CSV', '204 Delta Theta.CSV', '183 Gamma Lambda.CSV', '160 Beta Mu.CSV', '112 Mu.CSV', '212 Delta Pi.CSV', '134 Alpha Kappa.CSV', '150 Beta Beta.CSV', '168 Beta Upsilon.CSV', '210 Delta Xi.CSV', '132 Alpha Theta.CSV', '119 Tau.CSV', '125 Alpha Alpha.CSV', '139 Alpha Omicron.CSV', '197 Delta Alpha.CSV', '136 Alpha Mu.CSV', '214 Delta Sigma.CSV', '169 Beta Phi.CSV', '128 Alpha Delta.CSV', '177 Gamma Epsilon.CSV', '180 Gamma Theta.CSV', '146 Alpha Chi.CSV', '156 Beta Theta.CSV', '194 Gamma Chi.CSV', '203 Delta Eta.CSV', '109 Iota.CSV', '153 Beta Epsilon.CSV', '171 Beta Psi.CSV', '114 Xi.CSV', '172 Beta Omega.CSV', '191 Gamma Tau.CSV', '202 Delta Zeta.CSV', '123 Psi.CSV', '163 Beta Omicron.CSV', '106 Zeta.CSV', '133 Alpha Iota.CSV', '195 Gamma Psi.CSV', '196 Gamma Omega.CSV', '137 Alpha Nu.CSV', '121 Phi.CSV', '105 Epsilon.CSV', '104 Delta.CSV', '174 Gamma Beta.CSV', '116 Pi.CSV', '209 Delta Nu.CSV', '135 Alpha Lambda.CSV', '117 Rho.CSV', '120 Upsilon.CSV', '170 Beta Chi.CSV', '175 Gamma Gamma.CSV', '152 Beta Delta.CSV', '129 Alpha Epsilon.CSV', '142 Alpha Sigma.CSV', '167 Beta Tau.CSV', '166 Beta Sigma.CSV', '138 Alpha Xi.CSV', '143 Alpha Tau.CSV', '188 Gamma Pi.CSV', '182 Gamma Kappa.CSV', '192 Gamma Upsilon.CSV', '176 Gamma Delta.CSV', '205 Delta Iota.CSV', '158 Beta Kappa.CSV', '131 Alpha Eta.CSV', '187 Gamma Omicron.CSV', '149 Beta Alpha.CSV', '200 Delta Delta.CSV', '206 Delta Kappa.CSV', '144 Alpha Upsilon.CSV', '178 Gamma Zeta.CSV', '154 Beta Zeta.CSV', '213 Delta Rho.CSV', '186 Gamma Xi.CSV', '201 Delta Epsilon.CSV', '145 Alpha Phi.CSV', '185 Gamma Nu.CSV', '110 Kappa.CSV', '148 Alpha Omega.CSV', '199 Delta Gamma.CSV', '162 Beta Xi.CSV', '115 Omicron.CSV', '147 Alpha Psi.CSV', '118 Sigma.CSV', '165 Beta Rho.CSV', '122 Chi.CSV', '113 Nu.CSV', '101 Alpha.CSV', '161 Beta Nu.CSV', '190 Gamma Sigma.CSV', '164 Beta Pi.CSV', '157 Beta Iota.CSV', '193 Gamma Phi.CSV', '107 Eta.CSV', '141 Alpha Rho.CSV', '207 Delta Lambda.CSV', '130 Alpha Zeta.CSV', '211 Delta Omicron.CSV', '173 Gamma Alpha.CSV', '208 Delta Mu.CSV', '189 Gamma Rho.CSV', '102 Beta.CSV', '198 Delta Beta.CSV', '124 Omega.CSV', '140 Alpha Pi.CSV', '179 Gamma Eta.CSV', '151 Beta Gamma.CSV', '103 Gamma.CSV', '181 Gamma Iota.CSV', '127 Alpha Gamma.CSV', '159 Beta Lambda.CSV', '155 Beta Eta.CSV']\n"
     ]
    }
   ],
   "source": [
    "directory_path = os.path.join(\"..\", \"data\", \"map_demo\", \"Membership Visualization Data\")\n",
    "files = os.listdir(directory_path)\n",
    "print(files)"
   ]
  },
  {
   "cell_type": "markdown",
   "id": "288e2e05-6e31-4256-bc94-866a226915f7",
   "metadata": {},
   "source": [
    "For right now, we'll use the first csv as a test dummy and then generatlize our process. To do this we need to find the file path relative to where we're running python, which is easily accomplished since we know the relative path of the directory and the names of the files in the directory. We can join these two strings togther using `os.path.join()`."
   ]
  },
  {
   "cell_type": "code",
   "execution_count": 15,
   "id": "62fafc99-9850-43eb-aa04-11648718446f",
   "metadata": {},
   "outputs": [],
   "source": [
    "file_name = files[0] # extract our test dummy\n",
    "file_path = os.path.join(directory_path, file_name)"
   ]
  },
  {
   "cell_type": "markdown",
   "id": "8c2b50ec-f47d-4afc-85e9-5279ba22eaec",
   "metadata": {},
   "source": [
    "We can now use the [`pandas` library](https://pandas.pydata.org/docs/getting_started/index.html#getting-started) exacetly as we used its geographic counterpart earlier."
   ]
  },
  {
   "cell_type": "code",
   "execution_count": 16,
   "id": "12974dd9-f5f7-4187-bf5b-c7b63bc51c65",
   "metadata": {},
   "outputs": [
    {
     "name": "stdout",
     "output_type": "stream",
     "text": [
      "     Constituent Specific Attributes Initiation Date Description\n",
      "0                                             5/27/1916         \n",
      "1                                             5/27/1916         \n",
      "2                                             5/27/1916         \n",
      "3                                             5/27/1916         \n",
      "4                                             5/27/1916         \n",
      "...                                                 ...         \n",
      "1909                                          4/20/2024         \n",
      "1910                                          4/20/2024         \n",
      "1911                                          4/20/2024         \n",
      "1912                                          4/20/2024         \n",
      "1913                                          4/20/2024         \n",
      "\n",
      "[1914 rows x 1 columns]\n"
     ]
    }
   ],
   "source": [
    "import pandas as pd\n",
    "df = pd.read_csv(file_path)\n",
    "print(df)"
   ]
  },
  {
   "cell_type": "markdown",
   "id": "464c637d-b081-4ee8-b8d2-768c671ffbbc",
   "metadata": {},
   "source": [
    "And now we must count how many times each year occurs in each file. Go on, there's 100 more to count. \n",
    "Fortunately, computers are quite good at counting. `pandas` comes with the ability to interpret and extract time and date data, so we will add a column with just the year each member was initiated."
   ]
  },
  {
   "cell_type": "code",
   "execution_count": 17,
   "id": "d2f051ed-4e85-4d8d-b3e8-40c96ad2f2a5",
   "metadata": {},
   "outputs": [
    {
     "name": "stdout",
     "output_type": "stream",
     "text": [
      "     Constituent Specific Attributes Initiation Date Description  Year\n",
      "0                                             5/27/1916           1916\n",
      "1                                             5/27/1916           1916\n",
      "2                                             5/27/1916           1916\n",
      "3                                             5/27/1916           1916\n",
      "4                                             5/27/1916           1916\n",
      "...                                                 ...            ...\n",
      "1909                                          4/20/2024           2024\n",
      "1910                                          4/20/2024           2024\n",
      "1911                                          4/20/2024           2024\n",
      "1912                                          4/20/2024           2024\n",
      "1913                                          4/20/2024           2024\n",
      "\n",
      "[1914 rows x 2 columns]\n"
     ]
    }
   ],
   "source": [
    "df[\"Year\"] = pd.to_datetime(df['Constituent Specific Attributes Initiation Date Description'], format='%m/%d/%Y').dt.year\n",
    "print(df)"
   ]
  },
  {
   "cell_type": "markdown",
   "id": "ed068000-62de-4876-9f97-514efdf71192",
   "metadata": {},
   "source": [
    "`pandas` is also equipped to make a new table desrbing how many times a unique value occurs in a table."
   ]
  },
  {
   "cell_type": "code",
   "execution_count": 18,
   "id": "bad51fd7-47cd-4a1a-8994-3311853ed423",
   "metadata": {},
   "outputs": [
    {
     "name": "stdout",
     "output_type": "stream",
     "text": [
      "Year\n",
      "2022    44\n",
      "1947    44\n",
      "2016    41\n",
      "2019    40\n",
      "2018    39\n",
      "        ..\n",
      "1999     5\n",
      "1986     4\n",
      "1984     3\n",
      "1939     3\n",
      "1985     1\n",
      "Name: count, Length: 109, dtype: int64\n"
     ]
    }
   ],
   "source": [
    "file_year_counts = df['Year'].value_counts()\n",
    "print(file_year_counts)"
   ]
  },
  {
   "cell_type": "markdown",
   "id": "2a7b2f80-cde5-4075-95bb-1cf08e3bacd1",
   "metadata": {},
   "source": [
    "We now have the number of initiates each year, but we must associate that with the name of each chapter. Thankfully, through some rearangement, the file names can all be made into the names of the chapter."
   ]
  },
  {
   "cell_type": "code",
   "execution_count": 19,
   "id": "926cf540-4e56-44a7-91f7-41ed1633dd30",
   "metadata": {},
   "outputs": [
    {
     "name": "stdout",
     "output_type": "stream",
     "text": [
      "126 Alpha Beta.CSV\n",
      "126 Alpha Beta CSV\n",
      "['126', 'Alpha', 'Beta', 'CSV']\n",
      "['Alpha', 'Beta']\n",
      "Alpha Beta\n"
     ]
    }
   ],
   "source": [
    "print(file_name)\n",
    "name = file_name.replace('.', ' ') # replace the period\n",
    "print(name)\n",
    "name = name.split() # separate the string into words\n",
    "print(name)\n",
    "name = name[1:-1] # remove the number and file suffix\n",
    "print(name)\n",
    "name = \" \".join(name) # combine the list of strings to one string separated by \" \"\n",
    "print(name)"
   ]
  },
  {
   "cell_type": "markdown",
   "id": "95e9caa8-fc14-482f-b48b-5a3b64f71244",
   "metadata": {},
   "source": [
    "From here its rather simple to loop this process over all of the files found in the `files` varaible. At the end of each iteration, we will append to a dictionary which maps the name of each chapter onto their intiation data. Two important notes are that we will now be changining the indexing of `file_year_counts` so that the first entry is the first year in all cases, and now at the end of checking every chapter, we will find the first year the chapter had intiates and compare it to the earliest year checked so far. If the opened chapter has an earlier year, it is saved as the new minimum. "
   ]
  },
  {
   "cell_type": "code",
   "execution_count": 20,
   "id": "d71aa5d2-ddb2-499d-991c-3f10b0534617",
   "metadata": {},
   "outputs": [
    {
     "name": "stdout",
     "output_type": "stream",
     "text": [
      "Year\n",
      "2023    55\n",
      "2022    49\n",
      "1986    45\n",
      "2017    42\n",
      "2018    40\n",
      "2007    39\n",
      "2003    38\n",
      "2004    37\n",
      "1994    36\n",
      "2005    35\n",
      "1995    34\n",
      "2020    33\n",
      "2016    33\n",
      "1996    33\n",
      "2006    33\n",
      "2010    32\n",
      "2014    31\n",
      "2002    29\n",
      "1984    29\n",
      "2024    28\n",
      "2019    27\n",
      "2011    27\n",
      "1991    26\n",
      "2008    25\n",
      "2009    25\n",
      "1982    24\n",
      "1997    24\n",
      "1988    23\n",
      "1992    23\n",
      "1977    23\n",
      "1989    23\n",
      "1990    22\n",
      "2015    22\n",
      "2012    20\n",
      "2021    19\n",
      "1993    18\n",
      "1987    18\n",
      "1981    17\n",
      "1983    17\n",
      "1985    16\n",
      "1999    15\n",
      "1998    15\n",
      "1979    14\n",
      "2013    14\n",
      "2001    13\n",
      "1980     8\n",
      "2000     7\n",
      "1978     4\n",
      "Name: count, dtype: int64\n",
      "\n",
      " Earliest initiation year:  1902\n",
      "\n",
      " Most recent reported initiation year:  2024\n"
     ]
    }
   ],
   "source": [
    "import numpy as np\n",
    "global_first_year = np.inf\n",
    "global_final_year = 0\n",
    "year_counts = {}\n",
    "\n",
    "for file_name in files:\n",
    "        name = file_name.replace('.', ' ')\n",
    "        name = name.split()\n",
    "        name = name[1:-1]\n",
    "        name = \" \".join(name)\n",
    "        \n",
    "        file_path = os.path.join(directory_path, file_name)\n",
    "        df = pd.read_csv(file_path)\n",
    "        \n",
    "        df[\"Year\"] = pd.to_datetime(df['Constituent Specific Attributes Initiation Date Description'], format='%m/%d/%Y').dt.year\n",
    "        df = df.sort_values(by='Year')\n",
    "        file_year_counts = df['Year'].value_counts()\n",
    "        year_counts[name] = file_year_counts\n",
    "\n",
    "        local_first_year = np.min(df[\"Year\"])\n",
    "        local_final_year = np.max(df[\"Year\"])\n",
    "        \n",
    "        if local_first_year < global_first_year:\n",
    "            global_first_year = local_first_year\n",
    "\n",
    "        if local_final_year > global_final_year:\n",
    "            global_final_year = local_final_year\n",
    "\n",
    "print(year_counts['Gamma Beta'])\n",
    "print('\\n', 'Earliest initiation year: ', global_first_year)\n",
    "print('\\n', 'Most recent reported initiation year: ', global_final_year)\n",
    "year_range = (global_first_year, global_final_year)"
   ]
  },
  {
   "cell_type": "markdown",
   "id": "eec11bfb-fd60-4048-bcb0-1030f26a926a",
   "metadata": {},
   "source": [
    "Using a list of chapters and their location, it is possible to make a dictionary which maps the name of each chapter to the state its in. Constructing this dictrionary is beyond the scope of this demo (working with pdfs can be quite tedious, but is a good exercise in control structures, check the file path below for more information on how I obtained this data), but notice that not only are installed repositories available for import, but also functions from scripts which we write (map_utils). "
   ]
  },
  {
   "cell_type": "code",
   "execution_count": 21,
   "id": "83b09159-131e-4c33-94d1-873f469f5ecd",
   "metadata": {},
   "outputs": [
    {
     "name": "stdout",
     "output_type": "stream",
     "text": [
      "{'Alpha': 'Wisconsin', 'Beta': 'Minnesota', 'Gamma': 'Ohio', 'Delta': 'Missouri', 'Epsilon': 'Indiana', 'Zeta': 'Illinois', 'Eta': 'Colorado', 'Theta': 'Nebraska', 'Iota': 'Indiana', 'Kappa': 'Kansas', 'Lambda': 'Ohio', 'Mu': 'New Hampshire', 'Nu': 'Pennsylvania', 'Xi': 'Maine', 'Omicron': 'Massachusetts', 'Pi': 'New York', 'Rho': 'North Carolina', 'Sigma': 'California', 'Tau': 'New York', 'Upsilon': 'Illinois', 'Phi': 'Pennsylvania', 'Chi': 'Connecticut', 'Psi': 'Louisiana', 'Omega': 'Pennsylvania', 'Alpha Alpha': 'California', 'Alpha Beta': 'Michigan', 'Alpha Gamma': 'Kentucky', 'Alpha Delta': 'Ohio', 'Alpha Epsilon': 'Missouri', 'Alpha Zeta': 'Massachusetts', 'Alpha Eta': 'Oklahoma', 'Alpha Theta': 'Iowa', 'Alpha Iota': 'Pennsylvania', 'Alpha Kappa': 'Virginia', 'Alpha Lambda': 'New Hampshire', 'Alpha Mu': 'Pennsylvania', 'Alpha Nu': 'New York', 'Alpha Xi': 'Utah', 'Alpha Omicron': 'Montana', 'Alpha Pi': 'District of Columbia', 'Alpha Rho': 'Maryland', 'Alpha Sigma': 'Arkansas', 'Alpha Tau': 'Louisiana', 'Alpha Upsilon': 'Michigan', 'Alpha Phi': 'Tennessee', 'Alpha Chi': 'Iowa', 'Alpha Psi': 'Illinois', 'Alpha Omega': 'Georgia', 'Beta Alpha': 'Pennsylvania', 'Beta Beta': 'Washington', 'Beta Gamma': 'California', 'Beta Delta': 'Missouri', 'Beta Epsilon': 'South Carolina', 'Beta Zeta': 'Alabama', 'Beta Eta': 'Texas', 'Beta Theta': 'Texas', 'Beta Iota': 'Florida', 'Beta Kappa': 'Delaware', 'Beta Lambda': 'Ohio', 'Beta Mu': 'California', 'Beta Nu': 'Indiana', 'Beta Xi': 'Michigan', 'Beta Omicron': 'Texas', 'Beta Pi': 'California', 'Beta Rho': 'Kansas', 'Beta Sigma': 'New York', 'Beta Tau': 'Arizona', 'Beta Upsilon': 'District of Columbia', 'Beta Phi': 'South Dakota', 'Beta Chi': 'Virginia', 'Beta Psi': 'Illinois', 'Beta Omega': 'Arizona', 'Gamma Alpha': 'Maryland', 'Gamma Beta': 'Florida', 'Gamma Gamma': 'Michigan', 'Gamma Delta': 'South Carolina', 'Gamma Epsilon': 'Tennessee', 'Gamma Zeta': 'California', 'Gamma Eta': 'West Virginia', 'Gamma Theta': 'Missouri', 'Gamma Iota': 'Virginia', 'Gamma Kappa': 'Virginia', 'Gamma Lambda': 'Oklahoma', 'Gamma Mu': 'Arizona', 'Gamma Nu': 'Ohio', 'Gamma Xi': 'North Carolina', 'Gamma Omicron': 'Pennsylvania', 'Gamma Pi': 'Washington', 'Gamma Rho': 'Louisiana', 'Gamma Sigma': 'Ohio', 'Gamma Tau': 'Pennsylvania', 'Gamma Upsilon': 'Pennsylvania', 'Gamma Phi': 'New York', 'Gamma Chi': 'Virginia', 'Gamma Psi': 'Ohio', 'Gamma Omega': 'Pennsylvania', 'Delta Alpha': 'Rhode Island', 'Delta Beta': 'Mississippi', 'Delta Gamma': 'Georgia', 'Delta Delta': 'Missouri', 'Delta Epsilon': 'Massachusetts', 'Delta Zeta': 'Virginia', 'Delta Eta': 'Louisiana', 'Delta Theta': 'Michigan', 'Delta Iota': 'Pennsylvania', 'Delta Kappa': 'Virginia', 'Delta Lambda': 'California', 'Delta Mu': 'Michigan', 'Delta Nu': 'Illinois', 'Delta Xi': 'Florida', 'Delta Omicron': 'Florida', 'Delta Pi': 'Pennsylvania', 'Delta Rho': 'Oregon', 'Delta Sigma': 'North Carolina'}\n"
     ]
    }
   ],
   "source": [
    "import sys # change our path to read the other file\n",
    "project_root = os.path.abspath(os.path.join(os.getcwd(), \"..\"))\n",
    "scripts_path = os.path.join(project_root, \"scripts\")\n",
    "\n",
    "if scripts_path not in sys.path:\n",
    "    sys.path.append(scripts_path)\n",
    "\n",
    "from map_utils import extract_chapters_and_states\n",
    "pdf_path = os.path.join(project_root, \"data\", \"map_demo\", \"Chapters-of-Alpha-Chi-Sigma-5-1-2022.pdf\")\n",
    "chapter_to_state = extract_chapters_and_states(pdf_path)\n",
    "print(chapter_to_state)"
   ]
  },
  {
   "cell_type": "markdown",
   "id": "f6ec3873-4858-49d5-bdf5-7c46003c96c4",
   "metadata": {},
   "source": [
    "To exclude states with no chapters, we can use [python's `set` data type](https://docs.python.org/2/library/sets.html) to find all the unique states in our list of chapters and associated states, and reapply our [mask](#Masking) to only include states in this set. "
   ]
  },
  {
   "cell_type": "code",
   "execution_count": 22,
   "id": "35e37f57-904c-4be0-b63e-f6db96e4a453",
   "metadata": {},
   "outputs": [
    {
     "data": {
      "image/png": "[encoded data removed]",
      "text/plain": [
       "<Figure size 1000x800 with 1 Axes>"
      ]
     },
     "metadata": {},
     "output_type": "display_data"
    }
   ],
   "source": [
    "unique_states = set(chapter_to_state.values())\n",
    "masked_shape = masked_shape[masked_shape['NAME'].isin(unique_states)]\n",
    "borders = masked_shape.boundary\n",
    "fig, ax = plt.subplots(figsize = (10, 8)) # increase the figure size to 10 x 8 \n",
    "borders.plot(ax=ax, edgecolor='black', linewidth=0.2) # set the borders to fine black lines\n",
    "plt.tick_params(left = False, bottom = False) # remove the spines/axis ticks\n",
    "plt.tick_params(labelleft = False, labelbottom = False) # remove the numbers\n",
    "plt.show()\n"
   ]
  },
  {
   "cell_type": "markdown",
   "id": "826ce981-9cdc-4c58-9c4c-fd62d6f67556",
   "metadata": {},
   "source": [
    "# Plotting the Figure\n",
    "Now we finally have our blank map! Now we need to add our data to it. The first thing we need to do is make a dictionary of all the chapters grouped by their state. Thankfully, python allows us to make dictionaries with lists as keys, where any member of the list will access the associated value."
   ]
  },
  {
   "cell_type": "code",
   "execution_count": 23,
   "id": "b9212abe-2003-4611-9016-1623f72373f7",
   "metadata": {},
   "outputs": [
    {
     "name": "stdout",
     "output_type": "stream",
     "text": [
      "{'Wisconsin': ['Alpha'], 'Minnesota': ['Beta'], 'Ohio': ['Gamma', 'Lambda', 'Alpha Delta', 'Beta Lambda', 'Gamma Nu', 'Gamma Sigma', 'Gamma Psi'], 'Missouri': ['Delta', 'Alpha Epsilon', 'Beta Delta', 'Gamma Theta', 'Delta Delta'], 'Indiana': ['Epsilon', 'Iota', 'Beta Nu'], 'Illinois': ['Zeta', 'Upsilon', 'Alpha Psi', 'Beta Psi', 'Delta Nu'], 'Colorado': ['Eta'], 'Nebraska': ['Theta'], 'Kansas': ['Kappa', 'Beta Rho'], 'New Hampshire': ['Mu', 'Alpha Lambda'], 'Pennsylvania': ['Nu', 'Phi', 'Omega', 'Alpha Iota', 'Alpha Mu', 'Beta Alpha', 'Gamma Omicron', 'Gamma Tau', 'Gamma Upsilon', 'Gamma Omega', 'Delta Iota', 'Delta Pi'], 'Maine': ['Xi'], 'Massachusetts': ['Omicron', 'Alpha Zeta', 'Delta Epsilon'], 'New York': ['Pi', 'Tau', 'Alpha Nu', 'Beta Sigma', 'Gamma Phi'], 'North Carolina': ['Rho', 'Gamma Xi', 'Delta Sigma'], 'California': ['Sigma', 'Alpha Alpha', 'Beta Gamma', 'Beta Mu', 'Beta Pi', 'Gamma Zeta', 'Delta Lambda'], 'Connecticut': ['Chi'], 'Louisiana': ['Psi', 'Alpha Tau', 'Gamma Rho', 'Delta Eta'], 'Michigan': ['Alpha Beta', 'Alpha Upsilon', 'Beta Xi', 'Gamma Gamma', 'Delta Theta', 'Delta Mu'], 'Kentucky': ['Alpha Gamma'], 'Oklahoma': ['Alpha Eta', 'Gamma Lambda'], 'Iowa': ['Alpha Theta', 'Alpha Chi'], 'Virginia': ['Alpha Kappa', 'Beta Chi', 'Gamma Iota', 'Gamma Kappa', 'Gamma Chi', 'Delta Zeta', 'Delta Kappa'], 'Utah': ['Alpha Xi'], 'Montana': ['Alpha Omicron'], 'District of Columbia': ['Alpha Pi', 'Beta Upsilon'], 'Maryland': ['Alpha Rho', 'Gamma Alpha'], 'Arkansas': ['Alpha Sigma'], 'Tennessee': ['Alpha Phi', 'Gamma Epsilon'], 'Georgia': ['Alpha Omega', 'Delta Gamma'], 'Washington': ['Beta Beta', 'Gamma Pi'], 'South Carolina': ['Beta Epsilon', 'Gamma Delta'], 'Alabama': ['Beta Zeta'], 'Texas': ['Beta Eta', 'Beta Theta', 'Beta Omicron'], 'Florida': ['Beta Iota', 'Gamma Beta', 'Delta Xi', 'Delta Omicron'], 'Delaware': ['Beta Kappa'], 'Arizona': ['Beta Tau', 'Beta Omega', 'Gamma Mu'], 'South Dakota': ['Beta Phi'], 'West Virginia': ['Gamma Eta'], 'Rhode Island': ['Delta Alpha'], 'Mississippi': ['Delta Beta'], 'Oregon': ['Delta Rho']}\n"
     ]
    }
   ],
   "source": [
    "grouped = {}\n",
    "for chapter, state in chapter_to_state.items():\n",
    "    grouped.setdefault(state, []).append(chapter)\n",
    "print(grouped)"
   ]
  },
  {
   "cell_type": "markdown",
   "id": "24c2c49e-281a-4893-8fb6-c1fae1e90600",
   "metadata": {},
   "source": [
    "Since we are animating by year, we will need a function which, given a year, will go through our dictionary, and for each state add the initiations in each chapter in that state for that year."
   ]
  },
  {
   "cell_type": "code",
   "execution_count": 24,
   "id": "a7307c6b-ef67-44cb-af79-388dd10687be",
   "metadata": {},
   "outputs": [
    {
     "name": "stdout",
     "output_type": "stream",
     "text": [
      "{'Wisconsin': count    19\n",
      "Name: 2004, dtype: int64, 'Minnesota': count    3\n",
      "Name: 2004, dtype: int64, 'Ohio': count    109\n",
      "Name: 2004, dtype: int64, 'Missouri': count    90\n",
      "Name: 2004, dtype: int64, 'Indiana': count    53\n",
      "Name: 2004, dtype: int64, 'Illinois': count    52\n",
      "Name: 2004, dtype: int64, 'Colorado': 0, 'Nebraska': 0, 'Kansas': count    36\n",
      "Name: 2004, dtype: int64, 'New Hampshire': count    21\n",
      "Name: 2004, dtype: int64, 'Pennsylvania': count    63\n",
      "Name: 2004, dtype: int64, 'Maine': 0, 'Massachusetts': count    12\n",
      "Name: 2004, dtype: int64, 'New York': count    45\n",
      "Name: 2004, dtype: int64, 'North Carolina': count    30\n",
      "Name: 2004, dtype: int64, 'California': count    86\n",
      "Name: 2004, dtype: int64, 'Connecticut': 0, 'Louisiana': count    34\n",
      "Name: 2004, dtype: int64, 'Michigan': count    22\n",
      "Name: 2004, dtype: int64, 'Kentucky': 0, 'Oklahoma': 0, 'Iowa': count    12\n",
      "Name: 2004, dtype: int64, 'Virginia': count    65\n",
      "Name: 2004, dtype: int64, 'Utah': 0, 'Montana': 0, 'District of Columbia': count    15\n",
      "Name: 2004, dtype: int64, 'Maryland': count    34\n",
      "Name: 2004, dtype: int64, 'Arkansas': count    6\n",
      "Name: 2004, dtype: int64, 'Tennessee': 0, 'Georgia': count    27\n",
      "Name: 2004, dtype: int64, 'Washington': count    17\n",
      "Name: 2004, dtype: int64, 'South Carolina': count    30\n",
      "Name: 2004, dtype: int64, 'Alabama': 0, 'Texas': count    5\n",
      "Name: 2004, dtype: int64, 'Florida': count    37\n",
      "Name: 2004, dtype: int64, 'Delaware': 0, 'Arizona': count    42\n",
      "Name: 2004, dtype: int64, 'South Dakota': count    9\n",
      "Name: 2004, dtype: int64, 'West Virginia': count    24\n",
      "Name: 2004, dtype: int64, 'Rhode Island': 0, 'Mississippi': 0, 'Oregon': 0}\n"
     ]
    }
   ],
   "source": [
    "def calculate_year_totals(year, state_to_chapters, chapter_initiations):\n",
    "    yearly_totals = {}\n",
    "    for state, chapters in state_to_chapters.items():\n",
    "        total = 0\n",
    "        for chapter in chapters:\n",
    "            df = chapter_initiations[chapter]\n",
    "            df = df.to_frame().T\n",
    "            if year in df.columns:\n",
    "                total += df[year]\n",
    "                \n",
    "            yearly_totals[state] = total\n",
    "    return yearly_totals\n",
    "df = calculate_year_totals(2004, grouped, year_counts)\n",
    "print(df)"
   ]
  },
  {
   "cell_type": "markdown",
   "id": "47acec4b-796d-48e4-830f-117762562a5e",
   "metadata": {},
   "source": [
    "Now we reformat our dataframe for our purposes:"
   ]
  },
  {
   "cell_type": "code",
   "execution_count": 25,
   "id": "0371e0a4-9ee6-49ad-bfe4-f6ae9d88c0b7",
   "metadata": {},
   "outputs": [],
   "source": [
    "df = pd.DataFrame(list(df.items()), columns=[\"state\", \"value\"])"
   ]
  },
  {
   "cell_type": "markdown",
   "id": "ddb25958-9190-411e-acc0-4c955df16f6e",
   "metadata": {},
   "source": [
    "Now we need to merge the geopandas object (on the \"NAME\" column) with our initiation data (on the \"state\" column)."
   ]
  },
  {
   "cell_type": "code",
   "execution_count": 26,
   "id": "fc339f04-ae8b-4444-ae83-ba4b7b5a387a",
   "metadata": {},
   "outputs": [
    {
     "name": "stdout",
     "output_type": "stream",
     "text": [
      "   STATEFP   STATENS      GEOIDFQ GEOID STUSPS                  NAME LSAD  \\\n",
      "0       46  01785534  0400000US46    46     SD          South Dakota   00   \n",
      "1       06  01779778  0400000US06    06     CA            California   00   \n",
      "2       21  01779786  0400000US21    21     KY              Kentucky   00   \n",
      "3       01  01779775  0400000US01    01     AL               Alabama   00   \n",
      "4       13  01705317  0400000US13    13     GA               Georgia   00   \n",
      "5       05  00068085  0400000US05    05     AR              Arkansas   00   \n",
      "6       42  01779798  0400000US42    42     PA          Pennsylvania   00   \n",
      "7       29  01779791  0400000US29    29     MO              Missouri   00   \n",
      "8       08  01779779  0400000US08    08     CO              Colorado   00   \n",
      "9       49  01455989  0400000US49    49     UT                  Utah   00   \n",
      "10      40  01102857  0400000US40    40     OK              Oklahoma   00   \n",
      "11      47  01325873  0400000US47    47     TN             Tennessee   00   \n",
      "12      36  01779796  0400000US36    36     NY              New York   00   \n",
      "13      18  00448508  0400000US18    18     IN               Indiana   00   \n",
      "14      20  00481813  0400000US20    20     KS                Kansas   00   \n",
      "15      17  01779784  0400000US17    17     IL              Illinois   00   \n",
      "16      27  00662849  0400000US27    27     MN             Minnesota   00   \n",
      "17      19  01779785  0400000US19    19     IA                  Iowa   00   \n",
      "18      45  01779799  0400000US45    45     SC        South Carolina   00   \n",
      "19      33  01779794  0400000US33    33     NH         New Hampshire   00   \n",
      "20      10  01779781  0400000US10    10     DE              Delaware   00   \n",
      "21      11  01702382  0400000US11    11     DC  District of Columbia   00   \n",
      "22      09  01779780  0400000US09    09     CT           Connecticut   00   \n",
      "23      26  01779789  0400000US26    26     MI              Michigan   00   \n",
      "24      25  00606926  0400000US25    25     MA         Massachusetts   00   \n",
      "25      12  00294478  0400000US12    12     FL               Florida   00   \n",
      "26      24  01714934  0400000US24    24     MD              Maryland   00   \n",
      "27      23  01779787  0400000US23    23     ME                 Maine   00   \n",
      "28      44  01219835  0400000US44    44     RI          Rhode Island   00   \n",
      "29      30  00767982  0400000US30    30     MT               Montana   00   \n",
      "30      04  01779777  0400000US04    04     AZ               Arizona   00   \n",
      "31      31  01779792  0400000US31    31     NE              Nebraska   00   \n",
      "32      53  01779804  0400000US53    53     WA            Washington   00   \n",
      "33      48  01779801  0400000US48    48     TX                 Texas   00   \n",
      "34      39  01085497  0400000US39    39     OH                  Ohio   00   \n",
      "35      55  01779806  0400000US55    55     WI             Wisconsin   00   \n",
      "36      41  01155107  0400000US41    41     OR                Oregon   00   \n",
      "37      28  01779790  0400000US28    28     MS           Mississippi   00   \n",
      "38      37  01027616  0400000US37    37     NC        North Carolina   00   \n",
      "39      51  01779803  0400000US51    51     VA              Virginia   00   \n",
      "40      54  01779805  0400000US54    54     WV         West Virginia   00   \n",
      "41      22  01629543  0400000US22    22     LA             Louisiana   00   \n",
      "\n",
      "           ALAND        AWATER  \\\n",
      "0   196341525171    3387709166   \n",
      "1   403673296401   20291770234   \n",
      "2   102266598312    2384223544   \n",
      "3   131185049346    4582326383   \n",
      "4   149485311347    4419673221   \n",
      "5   134660466558    3122251184   \n",
      "6   115881839569    3397855215   \n",
      "7   178052260322    2487519141   \n",
      "8   268418756810    1185758065   \n",
      "9   213921849163    5963196691   \n",
      "10  177664484361    3373395450   \n",
      "11  106792311478    2322248149   \n",
      "12  122049078273   19256833049   \n",
      "13   92786613552    1543998356   \n",
      "14  211753777631    1345707708   \n",
      "15  143778366814    6216688589   \n",
      "16  206244555303   18937471947   \n",
      "17  144659283871    1086402333   \n",
      "18   77866000436    5074443652   \n",
      "19   23190126365    1025956733   \n",
      "20    5046703781    1399207462   \n",
      "21     158316184      18709787   \n",
      "22   12541750274    1816364426   \n",
      "23  146619947556  103866186527   \n",
      "24   20204345054    7130705555   \n",
      "25  138963763779   45970528648   \n",
      "26   25151736098    6979330958   \n",
      "27   79888284131   11745177995   \n",
      "28    2677763372    1323686976   \n",
      "29  376973185941    3867177570   \n",
      "30  294366106734     854003932   \n",
      "31  198949602728    1379309601   \n",
      "32  172118778986   12548923076   \n",
      "33  676686238592   18982083586   \n",
      "34  105823831336   10274524796   \n",
      "35  140292627460   29343084365   \n",
      "36  248630419895    6168960338   \n",
      "37  121533540877    3914738613   \n",
      "38  125935880061   13453540851   \n",
      "39  102258163252    8528087616   \n",
      "40   62266499712     489003081   \n",
      "41  111930452904   23721187320   \n",
      "\n",
      "                                             geometry                 state  \\\n",
      "0   POLYGON ((-104.05788 44.99761, -104.05078 44.9...          South Dakota   \n",
      "1   MULTIPOLYGON (((-118.60442 33.47855, -118.5987...            California   \n",
      "2   MULTIPOLYGON (((-89.40565 36.52817, -89.39869 ...              Kentucky   \n",
      "3   MULTIPOLYGON (((-88.05338 30.50699, -88.05109 ...               Alabama   \n",
      "4   MULTIPOLYGON (((-81.27939 31.30792, -81.27716 ...               Georgia   \n",
      "5   POLYGON ((-94.61792 36.49941, -94.61765 36.499...              Arkansas   \n",
      "6   POLYGON ((-80.51989 40.90666, -80.51963 40.911...          Pennsylvania   \n",
      "7   POLYGON ((-95.77355 40.57820, -95.76853 40.583...              Missouri   \n",
      "8   POLYGON ((-109.06025 38.59933, -109.05954 38.7...              Colorado   \n",
      "9   POLYGON ((-114.05296 37.59278, -114.05247 37.6...                  Utah   \n",
      "10  POLYGON ((-103.00257 36.52659, -103.00219 36.6...              Oklahoma   \n",
      "11  POLYGON ((-90.31045 35.00270, -90.30926 35.009...             Tennessee   \n",
      "12  MULTIPOLYGON (((-72.03769 41.25128, -72.03472 ...              New York   \n",
      "13  POLYGON ((-88.09776 37.90403, -88.09448 37.905...               Indiana   \n",
      "14  POLYGON ((-102.05174 40.00308, -101.91670 40.0...                Kansas   \n",
      "15  POLYGON ((-91.51297 40.18106, -91.51107 40.188...              Illinois   \n",
      "16  MULTIPOLYGON (((-89.59206 47.96668, -89.59147 ...             Minnesota   \n",
      "17  POLYGON ((-96.63836 42.73550, -96.63797 42.736...                  Iowa   \n",
      "18  MULTIPOLYGON (((-79.50795 33.02008, -79.50713 ...        South Carolina   \n",
      "19  MULTIPOLYGON (((-70.61702 42.97718, -70.61529 ...         New Hampshire   \n",
      "20  MULTIPOLYGON (((-75.56752 39.51020, -75.56477 ...              Delaware   \n",
      "21  POLYGON ((-77.11976 38.93434, -77.11253 38.940...  District of Columbia   \n",
      "22  MULTIPOLYGON (((-72.22593 41.29384, -72.22523 ...           Connecticut   \n",
      "23  MULTIPOLYGON (((-83.19159 42.03537, -83.18993 ...              Michigan   \n",
      "24  MULTIPOLYGON (((-70.23405 41.28565, -70.22122 ...         Massachusetts   \n",
      "25  MULTIPOLYGON (((-80.17628 25.52505, -80.17395 ...               Florida   \n",
      "26  MULTIPOLYGON (((-76.04998 37.99011, -76.04865 ...              Maryland   \n",
      "27  MULTIPOLYGON (((-67.32260 44.61160, -67.32174 ...                 Maine   \n",
      "28  MULTIPOLYGON (((-71.28802 41.64558, -71.28647 ...          Rhode Island   \n",
      "29  POLYGON ((-116.04914 48.50205, -116.04913 48.5...               Montana   \n",
      "30  POLYGON ((-114.81629 32.50804, -114.81432 32.5...               Arizona   \n",
      "31  POLYGON ((-104.05342 41.17054, -104.05321 41.1...              Nebraska   \n",
      "32  MULTIPOLYGON (((-122.33164 48.02056, -122.3283...            Washington   \n",
      "33  MULTIPOLYGON (((-94.71830 29.72885, -94.71721 ...                 Texas   \n",
      "34  MULTIPOLYGON (((-82.73447 41.60351, -82.72425 ...                  Ohio   \n",
      "35  MULTIPOLYGON (((-86.83090 45.42602, -86.82866 ...             Wisconsin   \n",
      "36  MULTIPOLYGON (((-123.66475 46.24431, -123.6489...                Oregon   \n",
      "37  MULTIPOLYGON (((-88.50502 30.21574, -88.49164 ...           Mississippi   \n",
      "38  MULTIPOLYGON (((-75.72681 35.93584, -75.71827 ...        North Carolina   \n",
      "39  MULTIPOLYGON (((-75.74241 37.80835, -75.74151 ...              Virginia   \n",
      "40  POLYGON ((-82.64320 38.16909, -82.64300 38.169...         West Virginia   \n",
      "41  MULTIPOLYGON (((-88.86770 29.86155, -88.86566 ...             Louisiana   \n",
      "\n",
      "                                    value  \n",
      "0     count    9\n",
      "Name: 2004, dtype: int64  \n",
      "1    count    86\n",
      "Name: 2004, dtype: int64  \n",
      "2                                       0  \n",
      "3                                       0  \n",
      "4    count    27\n",
      "Name: 2004, dtype: int64  \n",
      "5     count    6\n",
      "Name: 2004, dtype: int64  \n",
      "6    count    63\n",
      "Name: 2004, dtype: int64  \n",
      "7    count    90\n",
      "Name: 2004, dtype: int64  \n",
      "8                                       0  \n",
      "9                                       0  \n",
      "10                                      0  \n",
      "11                                      0  \n",
      "12   count    45\n",
      "Name: 2004, dtype: int64  \n",
      "13   count    53\n",
      "Name: 2004, dtype: int64  \n",
      "14   count    36\n",
      "Name: 2004, dtype: int64  \n",
      "15   count    52\n",
      "Name: 2004, dtype: int64  \n",
      "16    count    3\n",
      "Name: 2004, dtype: int64  \n",
      "17   count    12\n",
      "Name: 2004, dtype: int64  \n",
      "18   count    30\n",
      "Name: 2004, dtype: int64  \n",
      "19   count    21\n",
      "Name: 2004, dtype: int64  \n",
      "20                                      0  \n",
      "21   count    15\n",
      "Name: 2004, dtype: int64  \n",
      "22                                      0  \n",
      "23   count    22\n",
      "Name: 2004, dtype: int64  \n",
      "24   count    12\n",
      "Name: 2004, dtype: int64  \n",
      "25   count    37\n",
      "Name: 2004, dtype: int64  \n",
      "26   count    34\n",
      "Name: 2004, dtype: int64  \n",
      "27                                      0  \n",
      "28                                      0  \n",
      "29                                      0  \n",
      "30   count    42\n",
      "Name: 2004, dtype: int64  \n",
      "31                                      0  \n",
      "32   count    17\n",
      "Name: 2004, dtype: int64  \n",
      "33    count    5\n",
      "Name: 2004, dtype: int64  \n",
      "34  count    109\n",
      "Name: 2004, dtype: int64  \n",
      "35   count    19\n",
      "Name: 2004, dtype: int64  \n",
      "36                                      0  \n",
      "37                                      0  \n",
      "38   count    30\n",
      "Name: 2004, dtype: int64  \n",
      "39   count    65\n",
      "Name: 2004, dtype: int64  \n",
      "40   count    24\n",
      "Name: 2004, dtype: int64  \n",
      "41   count    34\n",
      "Name: 2004, dtype: int64  \n"
     ]
    }
   ],
   "source": [
    "merged_gdf = masked_shape.merge(df, left_on=\"NAME\", right_on=\"state\")\n",
    "print(merged_gdf)"
   ]
  },
  {
   "cell_type": "markdown",
   "id": "cc66ee3b-e84f-4fcb-b209-41592b491255",
   "metadata": {},
   "source": [
    "We are going to pass data from geopandas to matplotlib, so we want to ensure that all of the data is stored in a way that is easy for both modules to access. More advanced applications would create a data type with predefined rules that can take care of this. These concepts known as [object oriented programing](https://www.geeksforgeeks.org/python-oops-concepts/). While there are important considerations of OOP for many applications, we'll stick to functions for now. We can do this by createing a function which uses the `iloc` method which pandas uses to obtain data to ensure that pandas is happy with how the data is stored."
   ]
  },
  {
   "cell_type": "code",
   "execution_count": 27,
   "id": "7a0a28c3-51d9-440e-84eb-edda9f3fe062",
   "metadata": {},
   "outputs": [],
   "source": [
    "def extract_scalar(value):\n",
    "    if isinstance(value, pd.Series):\n",
    "        return value.iloc[0]  # Extract the first (or only) value from the Series\n",
    "    return value  # Return scalar values as is"
   ]
  },
  {
   "cell_type": "markdown",
   "id": "8e1a417f-e2fd-4c03-bb8b-8c8456b6f1b2",
   "metadata": {},
   "source": [
    "## Inheritance\n",
    "Pandas (and thus geopandas) have a method to apply a function to a whole column, so we are all good as far as processing goes. This is a time to talk about an important concept known as [inheritance](https://pythonnumericalmethods.studentorg.berkeley.edu/notebooks/chapter07.03-Inheritance-Encapsulation-and-Polymorphism.html), where an object (an instance of a *class*, or data type) keeps all the atribute of a \"parent\" object, with some added functionality. You can think of the concept of a shape as a parent class. All shapes have some defining features like area and perimeter, but we can specialize these features for specific shapes like circles, rectangles, or triangles while still treating them as part of the broader category of shapes. In this way, the pandas data frame is a parent class to the geopandas data frame, which adds on specific utility for dealing with shape files, so we can use the pandas [apply()](https://pandas.pydata.org/docs/reference/api/pandas.DataFrame.apply.html) and [sum()](https://pandas.pydata.org/docs/reference/api/pandas.DataFrame.sum.html) methods. With that out of the way, lets set up our data for graphing!"
   ]
  },
  {
   "cell_type": "code",
   "execution_count": 28,
   "id": "de85ddc0-1bab-4f5b-bb02-d6f2d3da36aa",
   "metadata": {},
   "outputs": [],
   "source": [
    "merged_gdf[\"value\"] = merged_gdf[\"value\"].apply(extract_scalar)\n",
    "merged_gdf[\"value_percent\"] = (merged_gdf[\"value\"] / merged_gdf[\"value\"].sum())"
   ]
  },
  {
   "cell_type": "markdown",
   "id": "ed39aff9-c2f5-40f9-a0de-a36f77ebc266",
   "metadata": {},
   "source": [
    "Now we need to set up some aesthetic choices. First we want to set our colors such that a value of 0 is Prussian blue and 1 is chrome yellow, and inbetween is some mixture."
   ]
  },
  {
   "cell_type": "code",
   "execution_count": 29,
   "id": "2f9addea-f14a-4488-938f-6c26ff996d16",
   "metadata": {},
   "outputs": [],
   "source": [
    "from matplotlib.colors import LinearSegmentedColormap, Normalize\n",
    "from matplotlib.cm import ScalarMappable\n",
    "cmap = LinearSegmentedColormap.from_list(\"custom_cmap\", ['#003153', '#FFA700']) # sets the color map to the two colors\n",
    "norm = Normalize(vmin=0, vmax=1) # normalize the color bar from 0 to 1\n",
    "sm = ScalarMappable(cmap = cmap, norm=norm)"
   ]
  },
  {
   "cell_type": "markdown",
   "id": "1b36d82a-81ab-4159-9fd4-0e78d6406a69",
   "metadata": {},
   "source": [
    "Now we're ready to finally start plotting. Now we'll make a blank canvas with a color bar at the bottom."
   ]
  },
  {
   "cell_type": "code",
   "execution_count": 31,
   "id": "89fb502a-85bb-4074-846f-1837d185cea8",
   "metadata": {},
   "outputs": [
    {
     "ename": "NameError",
     "evalue": "name 'plot' is not defined",
     "output_type": "error",
     "traceback": [
      "\u001b[0;31m---------------------------------------------------------------------------\u001b[0m",
      "\u001b[0;31mNameError\u001b[0m                                 Traceback (most recent call last)",
      "Cell \u001b[0;32mIn[31], line 6\u001b[0m\n\u001b[1;32m      4\u001b[0m \u001b[38;5;28;01mfrom\u001b[39;00m \u001b[38;5;21;01mmatplotlib\u001b[39;00m\u001b[38;5;21;01m.\u001b[39;00m\u001b[38;5;21;01mticker\u001b[39;00m \u001b[38;5;28;01mimport\u001b[39;00m FuncFormatter\n\u001b[1;32m      5\u001b[0m \u001b[38;5;66;03m# Retrieve the color bar\u001b[39;00m\n\u001b[0;32m----> 6\u001b[0m cbar \u001b[38;5;241m=\u001b[39m plot\u001b[38;5;241m.\u001b[39mget_figure()\u001b[38;5;241m.\u001b[39mcolorbar(plot\u001b[38;5;241m.\u001b[39mcollections[\u001b[38;5;241m0\u001b[39m], ax\u001b[38;5;241m=\u001b[39max)\n\u001b[1;32m      8\u001b[0m \u001b[38;5;66;03m# Format the color bar ticks as percentages\u001b[39;00m\n\u001b[1;32m      9\u001b[0m tick_labels \u001b[38;5;241m=\u001b[39m [\u001b[38;5;124mf\u001b[39m\u001b[38;5;124m\"\u001b[39m\u001b[38;5;132;01m{\u001b[39;00mtick\u001b[38;5;250m \u001b[39m\u001b[38;5;241m*\u001b[39m\u001b[38;5;250m \u001b[39m\u001b[38;5;241m100\u001b[39m\u001b[38;5;132;01m:\u001b[39;00m\u001b[38;5;124m.0f\u001b[39m\u001b[38;5;132;01m}\u001b[39;00m\u001b[38;5;124m%\u001b[39m\u001b[38;5;124m\"\u001b[39m \u001b[38;5;28;01mfor\u001b[39;00m tick \u001b[38;5;129;01min\u001b[39;00m cbar\u001b[38;5;241m.\u001b[39mget_ticks()]\n",
      "\u001b[0;31mNameError\u001b[0m: name 'plot' is not defined"
     ]
    },
    {
     "data": {
      "image/png": "[encoded data removed]",
      "text/plain": [
       "<Figure size 1000x800 with 2 Axes>"
      ]
     },
     "metadata": {},
     "output_type": "display_data"
    }
   ],
   "source": [
    "fig, ax = plt.subplots(figsize=(10, 8));\n",
    "cbar = fig.colorbar(sm, ax=ax, orientation=\"horizontal\", fraction=0.05, pad=0.04);\n",
    "\n",
    "from matplotlib.ticker import FuncFormatter\n",
    "formatter = FuncFormatter(lambda x, _: f\"{x * 100:.0f}%\")  # Convert to percentage\n",
    "cbar.yaxis.set_major_formatter(formatter)"
   ]
  },
  {
   "cell_type": "markdown",
   "id": "e45f5840-9e7c-4233-b8a9-4a6c456a7e3d",
   "metadata": {},
   "source": [
    "And now we add our geo-dataframe (for the year 2004; since we already plotted, we will make a new axis):"
   ]
  },
  {
   "cell_type": "code",
   "execution_count": null,
   "id": "1ca735ad-6399-4cc5-9ec5-c17c062e1250",
   "metadata": {},
   "outputs": [],
   "source": [
    "fig, ax = plt.subplots(figsize=(10, 8));\n",
    "cbar = fig.colorbar(sm, ax=ax, orientation=\"horizontal\", fraction=0.05, pad=0.04);\n",
    "formatter = FuncFormatter(lambda x, _: f\"{x * 100:.0f}%\")  # Convert to percentage\n",
    "cbar.yaxis.set_major_formatter(formatter)\n",
    "borders.plot(ax=ax, edgecolor='white', linewidth=0.2)  # Adjust border visualization\n",
    "merged_gdf.plot(column=\"value_percent\", cmap=cmap, legend=False, ax=ax)\n",
    "ax.tick_params(left=False, bottom=False, labelleft=False, labelbottom=False)\n",
    "plt.show()"
   ]
  },
  {
   "cell_type": "markdown",
   "id": "bb9a0e56-37df-497e-93a1-4fbc980bb615",
   "metadata": {},
   "source": [
    "Now that we have done it for one year, we need to get ready to animate for every year. This animation will (probably) take a while, so we'll add a progress bar using [tqdm](https://tqdm.github.io/). "
   ]
  },
  {
   "cell_type": "code",
   "execution_count": null,
   "id": "86736abc-d94f-49e1-88f4-7d049c5760b0",
   "metadata": {},
   "outputs": [],
   "source": [
    "# extract the first year and the number of years we will plot\n",
    "yr = year_range[0]\n",
    "frames = year_range[1] - year_range[0]\n",
    "\n",
    "from tqdm.notebook import tqdm\n",
    "progress_bar = tqdm(total = frames, desc=\"Generating Frames\", position = 0, leave = True)"
   ]
  },
  {
   "cell_type": "markdown",
   "id": "aaaeaab2-3adb-4bbd-ab97-c810dd362de3",
   "metadata": {},
   "source": [
    "Now we need to make an function which will clear the plot and add the data for the next year on every itteration to make the animation. The method we will use to animate will count the frame we are at (which is automatically the first input of the function), so we can leverage this to keep track of what year we should look at for a certain "
   ]
  },
  {
   "cell_type": "code",
   "execution_count": null,
   "id": "eb94002e-f2c4-4673-ae72-d9d42ae45dee",
   "metadata": {},
   "outputs": [],
   "source": [
    "def update(frame, yr, final_year):\n",
    "    current_year = yr + frame\n",
    "    \n",
    "    # clear the plot of the past year and intialize\n",
    "    ax.clear()\n",
    "    borders.plot(ax=ax, edgecolor='white', linewidth=0.2) # set the bor\n",
    "    df = calculate_year_totals(current_year, grouped, year_counts)\n",
    "    \n",
    "    \n",
    "    # find the current year and extract data\n",
    "    df = pd.DataFrame(list(df.items()), columns=[\"state\", \"value\"])\n",
    "    merged_gdf = masked_shape.merge(df, left_on=\"NAME\", right_on=\"state\")\n",
    "    merged_gdf[\"value\"] = merged_gdf[\"value\"].apply(extract_scalar)\n",
    "    merged_gdf[\"value_percent\"] = (merged_gdf[\"value\"] / merged_gdf[\"value\"].sum())\n",
    "    plot = merged_gdf.plot(column=\"value_percent\", cmap=cmap, legend=False, ax=ax)\n",
    "\n",
    "    # clean up and add a title\n",
    "    ax.set_title(f\"Year: {current_year}\")\n",
    "    ax.tick_params(left = False, bottom = False) # remove the spines\n",
    "    ax.tick_params(labelleft = False, labelbottom = False) # remove the numbers\n",
    "    sm.set_array([])\n",
    "\n",
    "    # if we're at the last year, close the progress bar, otherwise add one year\n",
    "    if not yr == final_year:\n",
    "        progress_bar.update(1)\n",
    "    else:\n",
    "        progress_bar.close()\n",
    "        \n",
    "    return plot, "
   ]
  },
  {
   "cell_type": "markdown",
   "id": "11644c40-e304-4bc9-9d21-e78a6eeecafa",
   "metadata": {},
   "source": [
    "Now we will use [FuncAnimation](https://matplotlib.org/stable/api/_as_gen/matplotlib.animation.FuncAnimation.html) to make a video of all the frames our function can generate. Since we are using a jupyter notebook, we need to convert our animation to html using [IPython](https://ipython.readthedocs.io/en/stable/api/generated/IPython.display.html)"
   ]
  },
  {
   "cell_type": "code",
   "execution_count": null,
   "id": "42545225-cd1d-4604-b32e-e9ccd3ed876a",
   "metadata": {},
   "outputs": [],
   "source": [
    "from matplotlib.animation import FuncAnimation\n",
    "from IPython.display import HTML\n",
    "ani = FuncAnimation(fig, update, frames = frames, repeat = True, blit=False, interval= 500, fargs = (yr, year_range[1]))\n",
    "ani = HTML(ani.to_jshtml())\n",
    "plt.close(fig) # if we dont put this we will see the data type of the animation, which makes the page a tiny bit uglier\n",
    "ani # show the plot"
   ]
  },
  {
   "cell_type": "markdown",
   "id": "1b602312-e2e9-4cac-8ecb-23506dd539b2",
   "metadata": {},
   "source": [
    "Congradulations! You did it. As a reward, this is how you type rainbow text:"
   ]
  },
  {
   "cell_type": "code",
   "execution_count": null,
   "id": "5a1f005a-e63f-4f88-a2b7-11674137ea6c",
   "metadata": {},
   "outputs": [],
   "source": [
    "from IPython.core.display import display, HTML\n",
    "\n",
    "# Define colors for the rainbow\n",
    "colors = [\"red\", \"orange\", \"yellow\", \"green\", \"blue\", \"indigo\", \"violet\"]\n",
    "\n",
    "# Define the sentence\n",
    "sentence = \"This is a rainbow text example.\"\n",
    "\n",
    "# Initialize the counter for non-space characters\n",
    "color_index = 0\n",
    "rainbow_html = \"\"\n",
    "\n",
    "# Generate HTML for rainbow text\n",
    "for char in sentence:\n",
    "    if char.strip():  # If the character is not a space\n",
    "        rainbow_html += f'<span style=\"color: {colors[color_index % len(colors)]};\">{char}</span>'\n",
    "        color_index += 1  # Increment color index\n",
    "    else:\n",
    "        rainbow_html += char  # Keep spaces unchanged\n",
    "\n",
    "# Display the text\n",
    "display(HTML(rainbow_html))\n",
    "\n",
    "\n"
   ]
  }
 ],
 "metadata": {
  "kernelspec": {
   "display_name": "Python 3 (ipykernel)",
   "language": "python",
   "name": "python3"
  },
  "language_info": {
   "codemirror_mode": {
    "name": "ipython",
    "version": 3
   },
   "file_extension": ".py",
   "mimetype": "text/x-python",
   "name": "python",
   "nbconvert_exporter": "python",
   "pygments_lexer": "ipython3",
   "version": "3.12.8"
  }
 },
 "nbformat": 4,
 "nbformat_minor": 5
}
